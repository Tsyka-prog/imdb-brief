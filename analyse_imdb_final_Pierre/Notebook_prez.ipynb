{
 "cells": [
  {
   "cell_type": "markdown",
   "metadata": {},
   "source": [
    "# Import des 3 modules pythons créés"
   ]
  },
  {
   "cell_type": "code",
   "execution_count": 1,
   "metadata": {
    "ExecuteTime": {
     "end_time": "2021-05-10T18:53:00.802458Z",
     "start_time": "2021-05-10T18:52:55.594112Z"
    }
   },
   "outputs": [],
   "source": [
    "from dataviz import graph_square, top_5, corr_matrice\n",
    "#from dataviz import *\n",
    "from scrapping import *\n",
    "from data_cleaning import clean_stars, une_colonne_par_liste, regroup_by_decade"
   ]
  },
  {
   "cell_type": "markdown",
   "metadata": {},
   "source": [
    "# Lancement du scrapping : "
   ]
  },
  {
   "cell_type": "code",
   "execution_count": 2,
   "metadata": {
    "ExecuteTime": {
     "end_time": "2021-05-10T18:53:11.161380Z",
     "start_time": "2021-05-10T18:53:01.672613Z"
    }
   },
   "outputs": [
    {
     "data": {
      "text/html": [
       "<div>\n",
       "<style scoped>\n",
       "    .dataframe tbody tr th:only-of-type {\n",
       "        vertical-align: middle;\n",
       "    }\n",
       "\n",
       "    .dataframe tbody tr th {\n",
       "        vertical-align: top;\n",
       "    }\n",
       "\n",
       "    .dataframe thead th {\n",
       "        text-align: right;\n",
       "    }\n",
       "</style>\n",
       "<table border=\"1\" class=\"dataframe\">\n",
       "  <thead>\n",
       "    <tr style=\"text-align: right;\">\n",
       "      <th></th>\n",
       "      <th>Ranking</th>\n",
       "      <th>Title</th>\n",
       "      <th>Genre</th>\n",
       "      <th>Year</th>\n",
       "      <th>Runtime_min</th>\n",
       "      <th>Rating</th>\n",
       "      <th>Directors</th>\n",
       "      <th>Stars</th>\n",
       "      <th>Votes</th>\n",
       "      <th>Gross</th>\n",
       "    </tr>\n",
       "  </thead>\n",
       "  <tbody>\n",
       "    <tr>\n",
       "      <th>0</th>\n",
       "      <td>1</td>\n",
       "      <td>Les Évadés</td>\n",
       "      <td>[Drama]</td>\n",
       "      <td>1994</td>\n",
       "      <td>142</td>\n",
       "      <td>9.3</td>\n",
       "      <td>[Frank Darabont]</td>\n",
       "      <td>['Tim Robbins', 'Morgan Freeman', 'Bob Gunton'...</td>\n",
       "      <td>2387123</td>\n",
       "      <td>28341469.0</td>\n",
       "    </tr>\n",
       "    <tr>\n",
       "      <th>1</th>\n",
       "      <td>2</td>\n",
       "      <td>Le parrain</td>\n",
       "      <td>[Crime, Drama]</td>\n",
       "      <td>1972</td>\n",
       "      <td>175</td>\n",
       "      <td>9.2</td>\n",
       "      <td>[Francis Ford Coppola]</td>\n",
       "      <td>['Marlon Brando', 'Al Pacino', 'James Caan', '...</td>\n",
       "      <td>1654466</td>\n",
       "      <td>134966411.0</td>\n",
       "    </tr>\n",
       "    <tr>\n",
       "      <th>2</th>\n",
       "      <td>3</td>\n",
       "      <td>The Dark Knight : Le Chevalier noir</td>\n",
       "      <td>[Action, Crime, Drama]</td>\n",
       "      <td>2008</td>\n",
       "      <td>152</td>\n",
       "      <td>9.0</td>\n",
       "      <td>[Christopher Nolan]</td>\n",
       "      <td>['Christian Bale', 'Heath Ledger', 'Aaron Eckh...</td>\n",
       "      <td>2350189</td>\n",
       "      <td>534858444.0</td>\n",
       "    </tr>\n",
       "    <tr>\n",
       "      <th>3</th>\n",
       "      <td>4</td>\n",
       "      <td>Le parrain, 2ème partie</td>\n",
       "      <td>[Crime, Drama]</td>\n",
       "      <td>1974</td>\n",
       "      <td>202</td>\n",
       "      <td>9.0</td>\n",
       "      <td>[Francis Ford Coppola]</td>\n",
       "      <td>['Al Pacino', 'Robert De Niro', 'Robert Duvall...</td>\n",
       "      <td>1150811</td>\n",
       "      <td>57300000.0</td>\n",
       "    </tr>\n",
       "    <tr>\n",
       "      <th>4</th>\n",
       "      <td>5</td>\n",
       "      <td>12 Hommes en colère</td>\n",
       "      <td>[Crime, Drama]</td>\n",
       "      <td>1957</td>\n",
       "      <td>96</td>\n",
       "      <td>9.0</td>\n",
       "      <td>[Sidney Lumet]</td>\n",
       "      <td>['Henry Fonda', 'Lee J. Cobb', 'Martin Balsam'...</td>\n",
       "      <td>704659</td>\n",
       "      <td>4360000.0</td>\n",
       "    </tr>\n",
       "    <tr>\n",
       "      <th>...</th>\n",
       "      <td>...</td>\n",
       "      <td>...</td>\n",
       "      <td>...</td>\n",
       "      <td>...</td>\n",
       "      <td>...</td>\n",
       "      <td>...</td>\n",
       "      <td>...</td>\n",
       "      <td>...</td>\n",
       "      <td>...</td>\n",
       "      <td>...</td>\n",
       "    </tr>\n",
       "    <tr>\n",
       "      <th>245</th>\n",
       "      <td>246</td>\n",
       "      <td>Rebecca</td>\n",
       "      <td>[Drama, Mystery, Romance]</td>\n",
       "      <td>1940</td>\n",
       "      <td>130</td>\n",
       "      <td>8.1</td>\n",
       "      <td>[Alfred Hitchcock]</td>\n",
       "      <td>['Laurence Olivier', 'Joan Fontaine', 'George ...</td>\n",
       "      <td>126173</td>\n",
       "      <td>4360000.0</td>\n",
       "    </tr>\n",
       "    <tr>\n",
       "      <th>246</th>\n",
       "      <td>247</td>\n",
       "      <td>Mr. Smith au sénat</td>\n",
       "      <td>[Comedy, Drama]</td>\n",
       "      <td>1939</td>\n",
       "      <td>129</td>\n",
       "      <td>8.1</td>\n",
       "      <td>[Frank Capra]</td>\n",
       "      <td>['James Stewart', 'Jean Arthur', 'Claude Rains...</td>\n",
       "      <td>108534</td>\n",
       "      <td>9600000.0</td>\n",
       "    </tr>\n",
       "    <tr>\n",
       "      <th>247</th>\n",
       "      <td>248</td>\n",
       "      <td>Autant en emporte le vent</td>\n",
       "      <td>[Drama, History, Romance]</td>\n",
       "      <td>1939</td>\n",
       "      <td>238</td>\n",
       "      <td>8.1</td>\n",
       "      <td>[Victor Fleming, George Cukor, Sam Wood]</td>\n",
       "      <td>['Clark Gable', 'Vivien Leigh', 'Thomas Mitche...</td>\n",
       "      <td>294189</td>\n",
       "      <td>198676459.0</td>\n",
       "    </tr>\n",
       "    <tr>\n",
       "      <th>248</th>\n",
       "      <td>249</td>\n",
       "      <td>New York - Miami</td>\n",
       "      <td>[Comedy, Romance]</td>\n",
       "      <td>1934</td>\n",
       "      <td>105</td>\n",
       "      <td>8.1</td>\n",
       "      <td>[Frank Capra]</td>\n",
       "      <td>['Clark Gable', 'Claudette Colbert', 'Walter C...</td>\n",
       "      <td>95821</td>\n",
       "      <td>4360000.0</td>\n",
       "    </tr>\n",
       "    <tr>\n",
       "      <th>249</th>\n",
       "      <td>250</td>\n",
       "      <td>La passion de Jeanne d'Arc</td>\n",
       "      <td>[Biography, Drama, History]</td>\n",
       "      <td>1928</td>\n",
       "      <td>110</td>\n",
       "      <td>8.1</td>\n",
       "      <td>[Carl Theodor Dreyer]</td>\n",
       "      <td>['Maria Falconetti', 'Eugene Silvain', 'André ...</td>\n",
       "      <td>49034</td>\n",
       "      <td>21877.0</td>\n",
       "    </tr>\n",
       "  </tbody>\n",
       "</table>\n",
       "<p>250 rows × 10 columns</p>\n",
       "</div>"
      ],
      "text/plain": [
       "     Ranking                                Title  \\\n",
       "0          1                           Les Évadés   \n",
       "1          2                           Le parrain   \n",
       "2          3  The Dark Knight : Le Chevalier noir   \n",
       "3          4              Le parrain, 2ème partie   \n",
       "4          5                  12 Hommes en colère   \n",
       "..       ...                                  ...   \n",
       "245      246                              Rebecca   \n",
       "246      247                   Mr. Smith au sénat   \n",
       "247      248            Autant en emporte le vent   \n",
       "248      249                     New York - Miami   \n",
       "249      250           La passion de Jeanne d'Arc   \n",
       "\n",
       "                           Genre  Year  Runtime_min  Rating  \\\n",
       "0                        [Drama]  1994          142     9.3   \n",
       "1                 [Crime, Drama]  1972          175     9.2   \n",
       "2         [Action, Crime, Drama]  2008          152     9.0   \n",
       "3                 [Crime, Drama]  1974          202     9.0   \n",
       "4                 [Crime, Drama]  1957           96     9.0   \n",
       "..                           ...   ...          ...     ...   \n",
       "245    [Drama, Mystery, Romance]  1940          130     8.1   \n",
       "246              [Comedy, Drama]  1939          129     8.1   \n",
       "247    [Drama, History, Romance]  1939          238     8.1   \n",
       "248            [Comedy, Romance]  1934          105     8.1   \n",
       "249  [Biography, Drama, History]  1928          110     8.1   \n",
       "\n",
       "                                    Directors  \\\n",
       "0                            [Frank Darabont]   \n",
       "1                      [Francis Ford Coppola]   \n",
       "2                         [Christopher Nolan]   \n",
       "3                      [Francis Ford Coppola]   \n",
       "4                              [Sidney Lumet]   \n",
       "..                                        ...   \n",
       "245                        [Alfred Hitchcock]   \n",
       "246                             [Frank Capra]   \n",
       "247  [Victor Fleming, George Cukor, Sam Wood]   \n",
       "248                             [Frank Capra]   \n",
       "249                     [Carl Theodor Dreyer]   \n",
       "\n",
       "                                                 Stars    Votes        Gross  \n",
       "0    ['Tim Robbins', 'Morgan Freeman', 'Bob Gunton'...  2387123   28341469.0  \n",
       "1    ['Marlon Brando', 'Al Pacino', 'James Caan', '...  1654466  134966411.0  \n",
       "2    ['Christian Bale', 'Heath Ledger', 'Aaron Eckh...  2350189  534858444.0  \n",
       "3    ['Al Pacino', 'Robert De Niro', 'Robert Duvall...  1150811   57300000.0  \n",
       "4    ['Henry Fonda', 'Lee J. Cobb', 'Martin Balsam'...   704659    4360000.0  \n",
       "..                                                 ...      ...          ...  \n",
       "245  ['Laurence Olivier', 'Joan Fontaine', 'George ...   126173    4360000.0  \n",
       "246  ['James Stewart', 'Jean Arthur', 'Claude Rains...   108534    9600000.0  \n",
       "247  ['Clark Gable', 'Vivien Leigh', 'Thomas Mitche...   294189  198676459.0  \n",
       "248  ['Clark Gable', 'Claudette Colbert', 'Walter C...    95821    4360000.0  \n",
       "249  ['Maria Falconetti', 'Eugene Silvain', 'André ...    49034      21877.0  \n",
       "\n",
       "[250 rows x 10 columns]"
      ]
     },
     "execution_count": 2,
     "metadata": {},
     "output_type": "execute_result"
    }
   ],
   "source": [
    "# initialisation des dataframes :\n",
    "movies_df = pd.DataFrame(columns=['Ranking', 'Title', 'Genre', 'Year','Runtime_min', 'Rating', 'Directors', 'Stars', 'Votes', 'Gross'])\n",
    "final_df=pd.DataFrame()\n",
    "\n",
    "#Scrapping des 5 pages de IMBD\n",
    "for i in range(1, 250, 50):\n",
    "    datas = request_url(i)\n",
    "    movies_df = scrapping_web_page(datas, movies_df)\n",
    "    final_df = pd.concat([final_df, movies_df], ignore_index=True)\n",
    "\n",
    "new_dtypes = {\"Ranking\": int,  'Year': int, 'Runtime_min': int,'Rating':float,  'Votes': int, 'Gross': float}    \n",
    "    \n",
    "final_df = final_df.astype(new_dtypes)\n",
    "\n",
    "final_df.head()"
   ]
  },
  {
   "cell_type": "markdown",
   "metadata": {},
   "source": [
    "# Affichage d'informations concernant les Genre, Directors et Stars"
   ]
  },
  {
   "cell_type": "code",
   "execution_count": 3,
   "metadata": {
    "ExecuteTime": {
     "end_time": "2021-05-10T18:53:13.248424Z",
     "start_time": "2021-05-10T18:53:13.181170Z"
    }
   },
   "outputs": [],
   "source": [
    "#nettoyage du dataframe \n",
    "final_df2= clean_stars(final_df)"
   ]
  },
  {
   "cell_type": "code",
   "execution_count": 6,
   "metadata": {
    "ExecuteTime": {
     "end_time": "2021-05-10T18:54:00.849018Z",
     "start_time": "2021-05-10T18:53:58.561372Z"
    },
    "scrolled": true
   },
   "outputs": [
    {
     "name": "stdout",
     "output_type": "stream",
     "text": [
      "Si vous souhaitez conaitre : \n",
      "    - Les STARS les plus présents dans le top 250 -  Tapez 1\n",
      "    - Les DIRECTORS les plus présents dans le top 250 - Tapez 2\n",
      "    - Les GENRES de film les plus dans le top 250 - Tapez 3\n",
      "3\n"
     ]
    },
    {
     "data": {
      "image/png": "[encoded data removed]",
      "text/plain": [
       "<Figure size 432x288 with 1 Axes>"
      ]
     },
     "metadata": {
      "needs_background": "light"
     },
     "output_type": "display_data"
    }
   ],
   "source": [
    "#Affichages des tops \n",
    "user_choice=int(input( \"\"\"Si vous souhaitez conaitre : \n",
    "    - Les STARS les plus présents dans le top 250 -  Tapez 1\n",
    "    - Les DIRECTORS les plus présents dans le top 250 - Tapez 2\n",
    "    - Les GENRES de film les plus dans le top 250 - Tapez 3\n",
    "\"\"\"))\n",
    "result=top_5(user_choice, final_df2)"
   ]
  },
  {
   "cell_type": "markdown",
   "metadata": {},
   "source": [
    "# Affichage des genres les plus représentés"
   ]
  },
  {
   "cell_type": "code",
   "execution_count": 7,
   "metadata": {
    "ExecuteTime": {
     "end_time": "2021-05-10T18:54:17.354098Z",
     "start_time": "2021-05-10T18:54:16.355083Z"
    }
   },
   "outputs": [
    {
     "data": {
      "image/png": "[encoded data removed]",
      "text/plain": [
       "<Figure size 864x576 with 1 Axes>"
      ]
     },
     "metadata": {
      "needs_background": "light"
     },
     "output_type": "display_data"
    }
   ],
   "source": [
    "graph_square(final_df2)"
   ]
  },
  {
   "cell_type": "code",
   "execution_count": 8,
   "metadata": {
    "ExecuteTime": {
     "end_time": "2021-05-10T18:54:23.266074Z",
     "start_time": "2021-05-10T18:54:22.357632Z"
    }
   },
   "outputs": [
    {
     "data": {
      "text/plain": [
       "<AxesSubplot:title={'center':'Matrice de Corrélation'}>"
      ]
     },
     "execution_count": 8,
     "metadata": {},
     "output_type": "execute_result"
    },
    {
     "data": {
      "image/png": "[encoded data removed]",
      "text/plain": [
       "<Figure size 432x288 with 2 Axes>"
      ]
     },
     "metadata": {
      "needs_background": "light"
     },
     "output_type": "display_data"
    }
   ],
   "source": [
    "corr_matrice(final_df)"
   ]
  },
  {
   "cell_type": "code",
   "execution_count": 9,
   "metadata": {
    "ExecuteTime": {
     "end_time": "2021-05-10T18:54:26.646910Z",
     "start_time": "2021-05-10T18:54:26.568772Z"
    }
   },
   "outputs": [],
   "source": [
    "#creation de categorie \n",
    "total_by_decades=regroup_by_decade(final_df)"
   ]
  },
  {
   "cell_type": "code",
   "execution_count": 10,
   "metadata": {
    "ExecuteTime": {
     "end_time": "2021-05-10T18:54:30.683915Z",
     "start_time": "2021-05-10T18:54:30.629278Z"
    }
   },
   "outputs": [
    {
     "data": {
      "text/html": [
       "<div>\n",
       "<style scoped>\n",
       "    .dataframe tbody tr th:only-of-type {\n",
       "        vertical-align: middle;\n",
       "    }\n",
       "\n",
       "    .dataframe tbody tr th {\n",
       "        vertical-align: top;\n",
       "    }\n",
       "\n",
       "    .dataframe thead th {\n",
       "        text-align: right;\n",
       "    }\n",
       "</style>\n",
       "<table border=\"1\" class=\"dataframe\">\n",
       "  <thead>\n",
       "    <tr style=\"text-align: right;\">\n",
       "      <th></th>\n",
       "      <th>Decenie</th>\n",
       "      <th>Number_of_movies</th>\n",
       "      <th>Average_nb_of_votes</th>\n",
       "      <th>Average_ratings</th>\n",
       "    </tr>\n",
       "  </thead>\n",
       "  <tbody>\n",
       "    <tr>\n",
       "      <th>0</th>\n",
       "      <td>(1920, 1930]</td>\n",
       "      <td>5</td>\n",
       "      <td>94844.200000</td>\n",
       "      <td>8.220000</td>\n",
       "    </tr>\n",
       "    <tr>\n",
       "      <th>1</th>\n",
       "      <td>(1930, 1940]</td>\n",
       "      <td>8</td>\n",
       "      <td>171315.375000</td>\n",
       "      <td>8.262500</td>\n",
       "    </tr>\n",
       "    <tr>\n",
       "      <th>2</th>\n",
       "      <td>(1940, 1950]</td>\n",
       "      <td>11</td>\n",
       "      <td>221869.818182</td>\n",
       "      <td>8.300000</td>\n",
       "    </tr>\n",
       "    <tr>\n",
       "      <th>3</th>\n",
       "      <td>(1950, 1960]</td>\n",
       "      <td>22</td>\n",
       "      <td>228077.681818</td>\n",
       "      <td>8.290909</td>\n",
       "    </tr>\n",
       "    <tr>\n",
       "      <th>4</th>\n",
       "      <td>(1960, 1970]</td>\n",
       "      <td>16</td>\n",
       "      <td>234387.125000</td>\n",
       "      <td>8.293750</td>\n",
       "    </tr>\n",
       "    <tr>\n",
       "      <th>5</th>\n",
       "      <td>(1970, 1980]</td>\n",
       "      <td>23</td>\n",
       "      <td>578415.565217</td>\n",
       "      <td>8.347826</td>\n",
       "    </tr>\n",
       "    <tr>\n",
       "      <th>6</th>\n",
       "      <td>(1980, 1990]</td>\n",
       "      <td>25</td>\n",
       "      <td>480861.200000</td>\n",
       "      <td>8.272000</td>\n",
       "    </tr>\n",
       "    <tr>\n",
       "      <th>7</th>\n",
       "      <td>(1990, 2000]</td>\n",
       "      <td>45</td>\n",
       "      <td>877425.977778</td>\n",
       "      <td>8.380000</td>\n",
       "    </tr>\n",
       "    <tr>\n",
       "      <th>8</th>\n",
       "      <td>(2000, 2010]</td>\n",
       "      <td>47</td>\n",
       "      <td>769083.319149</td>\n",
       "      <td>8.304255</td>\n",
       "    </tr>\n",
       "    <tr>\n",
       "      <th>9</th>\n",
       "      <td>(2010, 2020]</td>\n",
       "      <td>48</td>\n",
       "      <td>484358.854167</td>\n",
       "      <td>8.258333</td>\n",
       "    </tr>\n",
       "  </tbody>\n",
       "</table>\n",
       "</div>"
      ],
      "text/plain": [
       "        Decenie  Number_of_movies  Average_nb_of_votes  Average_ratings\n",
       "0  (1920, 1930]                 5         94844.200000         8.220000\n",
       "1  (1930, 1940]                 8        171315.375000         8.262500\n",
       "2  (1940, 1950]                11        221869.818182         8.300000\n",
       "3  (1950, 1960]                22        228077.681818         8.290909\n",
       "4  (1960, 1970]                16        234387.125000         8.293750\n",
       "5  (1970, 1980]                23        578415.565217         8.347826\n",
       "6  (1980, 1990]                25        480861.200000         8.272000\n",
       "7  (1990, 2000]                45        877425.977778         8.380000\n",
       "8  (2000, 2010]                47        769083.319149         8.304255\n",
       "9  (2010, 2020]                48        484358.854167         8.258333"
      ]
     },
     "execution_count": 10,
     "metadata": {},
     "output_type": "execute_result"
    }
   ],
   "source": [
    "total_by_decades"
   ]
  },
  {
   "cell_type": "code",
   "execution_count": 11,
   "metadata": {
    "ExecuteTime": {
     "end_time": "2021-05-10T18:54:34.163009Z",
     "start_time": "2021-05-10T18:54:33.602058Z"
    }
   },
   "outputs": [
    {
     "data": {
      "text/plain": [
       "<AxesSubplot:xlabel='Number_of_movies', ylabel='Decenie'>"
      ]
     },
     "execution_count": 11,
     "metadata": {},
     "output_type": "execute_result"
    },
    {
     "data": {
      "image/png": "[encoded data removed]",
      "text/plain": [
       "<Figure size 432x288 with 1 Axes>"
      ]
     },
     "metadata": {
      "needs_background": "light"
     },
     "output_type": "display_data"
    }
   ],
   "source": [
    "import seaborn as sns \n",
    "sns.barplot(data=total_by_decades,y='Decenie',x='Number_of_movies')"
   ]
  },
  {
   "cell_type": "code",
   "execution_count": null,
   "metadata": {},
   "outputs": [],
   "source": [
    "plt.figure(figsize=(12,8))\n",
    "sns.regplot(data=final_df,x='Votes',y='Rating')"
   ]
  }
 ],
 "metadata": {
  "kernelspec": {
   "display_name": "Python 3",
   "language": "python",
   "name": "python3"
  },
  "language_info": {
   "codemirror_mode": {
    "name": "ipython",
    "version": 3
   },
   "file_extension": ".py",
   "mimetype": "text/x-python",
   "name": "python",
   "nbconvert_exporter": "python",
   "pygments_lexer": "ipython3",
   "version": "3.8.5"
  },
  "toc": {
   "base_numbering": 1,
   "nav_menu": {},
   "number_sections": true,
   "sideBar": true,
   "skip_h1_title": false,
   "title_cell": "Table of Contents",
   "title_sidebar": "Contents",
   "toc_cell": false,
   "toc_position": {},
   "toc_section_display": true,
   "toc_window_display": false
  },
  "varInspector": {
   "cols": {
    "lenName": 16,
    "lenType": 16,
    "lenVar": 40
   },
   "kernels_config": {
    "python": {
     "delete_cmd_postfix": "",
     "delete_cmd_prefix": "del ",
     "library": "var_list.py",
     "varRefreshCmd": "print(var_dic_list())"
    },
    "r": {
     "delete_cmd_postfix": ") ",
     "delete_cmd_prefix": "rm(",
     "library": "var_list.r",
     "varRefreshCmd": "cat(var_dic_list()) "
    }
   },
   "types_to_exclude": [
    "module",
    "function",
    "builtin_function_or_method",
    "instance",
    "_Feature"
   ],
   "window_display": false
  }
 },
 "nbformat": 4,
 "nbformat_minor": 4
}
