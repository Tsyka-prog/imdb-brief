{
 "cells": [
  {
   "cell_type": "markdown",
   "metadata": {},
   "source": [
    "# Brief Project IMDB"
   ]
  },
  {
   "cell_type": "markdown",
   "metadata": {},
   "source": [
    "## Scrapping"
   ]
  },
  {
   "cell_type": "code",
   "execution_count": null,
   "metadata": {},
   "outputs": [],
   "source": [
    "pip install requests"
   ]
  },
  {
   "cell_type": "code",
   "execution_count": null,
   "metadata": {},
   "outputs": [],
   "source": [
    "# pour ne pas se faire bannir car trop de requests envoyés\n",
    "pip install requests-cache"
   ]
  },
  {
   "cell_type": "code",
   "execution_count": null,
   "metadata": {},
   "outputs": [],
   "source": [
    "import requests\n",
    "import requests_cache\n",
    "from bs4 import BeautifulSoup\n",
    "from requests_cache import CachedSession\n",
    "import os\n",
    "session = CachedSession()\n",
    "response = session.get('https://www.imdb.com/search/title/?groups=top_250&sort=user_rating,desc&ref_=adv_prv')\n",
    "import pandas as pd"
   ]
  },
  {
   "cell_type": "code",
   "execution_count": null,
   "metadata": {},
   "outputs": [],
   "source": [
    "url = 'https://www.imdb.com/search/title/?groups=top_250&sort=user_rating,desc&ref_=adv_prv'\n",
    "response = requests.get(url)\n",
    "if response.ok:\n",
    "    soup = BeautifulSoup(response.text)\n",
    "    movies = soup.find_all('div', class_ = 'lister-item mode-advanced')"
   ]
  },
  {
   "cell_type": "code",
   "execution_count": null,
   "metadata": {},
   "outputs": [],
   "source": [
    "print(movies)"
   ]
  },
  {
   "cell_type": "code",
   "execution_count": null,
   "metadata": {},
   "outputs": [],
   "source": [
    "print (len(movies)) ## donne la longueur des données de la page"
   ]
  },
  {
   "cell_type": "code",
   "execution_count": null,
   "metadata": {},
   "outputs": [],
   "source": [
    "first_movie = movies[0]\n",
    "\n",
    "print (first_movie)"
   ]
  },
  {
   "cell_type": "code",
   "execution_count": null,
   "metadata": {},
   "outputs": [],
   "source": [
    "print (first_movie.div)"
   ]
  },
  {
   "cell_type": "markdown",
   "metadata": {},
   "source": [
    "### Nom"
   ]
  },
  {
   "cell_type": "code",
   "execution_count": null,
   "metadata": {},
   "outputs": [],
   "source": [
    "print (first_movie.a)"
   ]
  },
  {
   "cell_type": "code",
   "execution_count": null,
   "metadata": {},
   "outputs": [],
   "source": [
    "print (first_movie.h3)"
   ]
  },
  {
   "cell_type": "code",
   "execution_count": null,
   "metadata": {},
   "outputs": [],
   "source": [
    "print (first_movie.h3.a)"
   ]
  },
  {
   "cell_type": "code",
   "execution_count": null,
   "metadata": {},
   "outputs": [],
   "source": [
    "first_name = first_movie.h3.a.text\n",
    "print (first_name)"
   ]
  },
  {
   "cell_type": "markdown",
   "metadata": {},
   "source": [
    "### Année"
   ]
  },
  {
   "cell_type": "code",
   "execution_count": null,
   "metadata": {},
   "outputs": [],
   "source": [
    "first_year = first_movie.h3.find('span', class_ = 'lister-item-year text-muted unbold').text\n",
    "print (first_year)"
   ]
  },
  {
   "cell_type": "markdown",
   "metadata": {},
   "source": [
    "### Genre"
   ]
  },
  {
   "cell_type": "code",
   "execution_count": null,
   "metadata": {},
   "outputs": [],
   "source": [
    "first_genre = first_movie.p.find('span', class_ = 'genre').text\n",
    "print (first_genre)"
   ]
  },
  {
   "cell_type": "markdown",
   "metadata": {},
   "source": [
    "### Certificate"
   ]
  },
  {
   "cell_type": "code",
   "execution_count": null,
   "metadata": {},
   "outputs": [],
   "source": [
    "first_certificate = first_movie.p.find('span', class_ = 'certificate').text\n",
    "print (first_certificate)"
   ]
  },
  {
   "cell_type": "markdown",
   "metadata": {},
   "source": [
    "### IMDB Ratings"
   ]
  },
  {
   "cell_type": "code",
   "execution_count": null,
   "metadata": {},
   "outputs": [],
   "source": [
    "first_imdb = float(first_movie.strong.text)\n",
    "print(first_imdb)"
   ]
  },
  {
   "cell_type": "markdown",
   "metadata": {},
   "source": [
    "### Votes"
   ]
  },
  {
   "cell_type": "code",
   "execution_count": null,
   "metadata": {},
   "outputs": [],
   "source": [
    "first_votes = int(first_movie.find('span', attrs = {'name':'nv'}))\n",
    "print (first_votes)"
   ]
  },
  {
   "cell_type": "code",
   "execution_count": null,
   "metadata": {},
   "outputs": [],
   "source": [
    "print (first_votes['data-value'])"
   ]
  },
  {
   "cell_type": "markdown",
   "metadata": {},
   "source": [
    "## Modeles"
   ]
  },
  {
   "cell_type": "code",
   "execution_count": null,
   "metadata": {
    "scrolled": true
   },
   "outputs": [],
   "source": [
    "names = []\n",
    "years = []\n",
    "genres = []\n",
    "#certificates = []\n",
    "imdb_ratings = []\n",
    "votes = []\n",
    "\n",
    "\n",
    "    \n",
    "pages = [1, 51, 101, 151, 201]\n",
    "\n",
    "for page in pages:\n",
    "    url = f'https://www.imdb.com/search/title/?groups=top_250&sort=user_rating,desc&start={page}&ref_=adv_nxt'\n",
    "    response = requests.get(url)\n",
    "    \n",
    "    if response.ok:\n",
    "        soup = BeautifulSoup(response.text)\n",
    "        movies = soup.find_all('div', class_ = 'lister-item mode-advanced')\n",
    "\n",
    "        for movie in movies:\n",
    "        #The name\n",
    "            name = movie.h3.a.text\n",
    "            names.append(name)\n",
    "        #The year\n",
    "            year = movie.h3.find('span', class_ = 'lister-item-year').text\n",
    "            years.append(year)\n",
    "        #The genre\n",
    "            genre = movie.p.find('span', class_ = 'genre').text\n",
    "            genres.append(genre)\n",
    "        #The certificate\n",
    "            #certificate = movie.p.find('span', class_ = 'certificate').text\n",
    "            #certificates.append(certificate)\n",
    "        # The IMDB rating\n",
    "            imdb = float(movie.strong.text)\n",
    "            imdb_ratings.append(imdb)\n",
    "        # The number of votes\n",
    "            vote = movie.find('span', attrs = {'name':'nv'})['data-value']\n",
    "            votes.append(int(vote))\n"
   ]
  },
  {
   "cell_type": "code",
   "execution_count": null,
   "metadata": {
    "scrolled": true
   },
   "outputs": [],
   "source": [
    "movie_df = pd.DataFrame({'movie': names,\n",
    "'year': years,\n",
    "'genre': genres,\n",
    "#'certificate': certificates,                         \n",
    "'imdb': imdb_ratings,\n",
    "'vote': votes\n",
    "})\n",
    "\n",
    "print(movie_df.info())\n",
    "movie_df"
   ]
  },
  {
   "cell_type": "markdown",
   "metadata": {},
   "source": [
    "## Dataframe"
   ]
  },
  {
   "cell_type": "code",
   "execution_count": 8,
   "metadata": {},
   "outputs": [],
   "source": [
    "import pandas as pd\n",
    "\n",
    "import matplotlib.pyplot as plt\n",
    "import seaborn as sns\n",
    "import numpy as np"
   ]
  },
  {
   "cell_type": "code",
   "execution_count": 5,
   "metadata": {},
   "outputs": [
    {
     "data": {
      "text/html": [
       "<div>\n",
       "<style scoped>\n",
       "    .dataframe tbody tr th:only-of-type {\n",
       "        vertical-align: middle;\n",
       "    }\n",
       "\n",
       "    .dataframe tbody tr th {\n",
       "        vertical-align: top;\n",
       "    }\n",
       "\n",
       "    .dataframe thead th {\n",
       "        text-align: right;\n",
       "    }\n",
       "</style>\n",
       "<table border=\"1\" class=\"dataframe\">\n",
       "  <thead>\n",
       "    <tr style=\"text-align: right;\">\n",
       "      <th></th>\n",
       "      <th>Unnamed: 0</th>\n",
       "      <th>Ranking</th>\n",
       "      <th>Title</th>\n",
       "      <th>Genre</th>\n",
       "      <th>Year</th>\n",
       "      <th>Runtime_min</th>\n",
       "      <th>Rating</th>\n",
       "      <th>Directors</th>\n",
       "      <th>Stars</th>\n",
       "      <th>Votes</th>\n",
       "      <th>Gross</th>\n",
       "    </tr>\n",
       "  </thead>\n",
       "  <tbody>\n",
       "    <tr>\n",
       "      <th>0</th>\n",
       "      <td>0</td>\n",
       "      <td>1</td>\n",
       "      <td>Les Évadés</td>\n",
       "      <td>Drama</td>\n",
       "      <td>1994</td>\n",
       "      <td>142.0</td>\n",
       "      <td>9.3</td>\n",
       "      <td>Frank Darabont</td>\n",
       "      <td>['Tim Robbins', ' Morgan Freeman', ' Bob Gunto...</td>\n",
       "      <td>2384498.0</td>\n",
       "      <td>28341469.0</td>\n",
       "    </tr>\n",
       "    <tr>\n",
       "      <th>1</th>\n",
       "      <td>1</td>\n",
       "      <td>2</td>\n",
       "      <td>Le parrain</td>\n",
       "      <td>['Crime', ' Drama']</td>\n",
       "      <td>1972</td>\n",
       "      <td>175.0</td>\n",
       "      <td>9.2</td>\n",
       "      <td>['Francis Ford Coppola']</td>\n",
       "      <td>['Marlon Brando', ' Al Pacino', ' James Caan',...</td>\n",
       "      <td>1652566.0</td>\n",
       "      <td>134966411.0</td>\n",
       "    </tr>\n",
       "    <tr>\n",
       "      <th>2</th>\n",
       "      <td>2</td>\n",
       "      <td>3</td>\n",
       "      <td>The Dark Knight : Le Chevalier noir</td>\n",
       "      <td>['Action', ' Crime', ' Drama']</td>\n",
       "      <td>2008</td>\n",
       "      <td>152.0</td>\n",
       "      <td>9.0</td>\n",
       "      <td>['Christopher Nolan']</td>\n",
       "      <td>['Christian Bale', ' Heath Ledger', ' Aaron Ec...</td>\n",
       "      <td>2347962.0</td>\n",
       "      <td>534858444.0</td>\n",
       "    </tr>\n",
       "    <tr>\n",
       "      <th>3</th>\n",
       "      <td>3</td>\n",
       "      <td>4</td>\n",
       "      <td>Le parrain, 2ème partie</td>\n",
       "      <td>['Crime', ' Drama']</td>\n",
       "      <td>1974</td>\n",
       "      <td>202.0</td>\n",
       "      <td>9.0</td>\n",
       "      <td>['Francis Ford Coppola']</td>\n",
       "      <td>['Al Pacino', ' Robert De Niro', ' Robert Duva...</td>\n",
       "      <td>1149888.0</td>\n",
       "      <td>57300000.0</td>\n",
       "    </tr>\n",
       "    <tr>\n",
       "      <th>4</th>\n",
       "      <td>4</td>\n",
       "      <td>5</td>\n",
       "      <td>12 Hommes en colère</td>\n",
       "      <td>['Crime', ' Drama']</td>\n",
       "      <td>1957</td>\n",
       "      <td>96.0</td>\n",
       "      <td>9.0</td>\n",
       "      <td>['Sidney Lumet']</td>\n",
       "      <td>['Henry Fonda', ' Lee J. Cobb', ' Martin Balsa...</td>\n",
       "      <td>704057.0</td>\n",
       "      <td>4360000.0</td>\n",
       "    </tr>\n",
       "    <tr>\n",
       "      <th>...</th>\n",
       "      <td>...</td>\n",
       "      <td>...</td>\n",
       "      <td>...</td>\n",
       "      <td>...</td>\n",
       "      <td>...</td>\n",
       "      <td>...</td>\n",
       "      <td>...</td>\n",
       "      <td>...</td>\n",
       "      <td>...</td>\n",
       "      <td>...</td>\n",
       "      <td>...</td>\n",
       "    </tr>\n",
       "    <tr>\n",
       "      <th>245</th>\n",
       "      <td>245</td>\n",
       "      <td>246</td>\n",
       "      <td>Mr. Smith au sénat</td>\n",
       "      <td>['Comedy', ' Drama']</td>\n",
       "      <td>1939</td>\n",
       "      <td>129.0</td>\n",
       "      <td>8.1</td>\n",
       "      <td>['Frank Capra']</td>\n",
       "      <td>['James Stewart', ' Jean Arthur', ' Claude Rai...</td>\n",
       "      <td>108451.0</td>\n",
       "      <td>9600000.0</td>\n",
       "    </tr>\n",
       "    <tr>\n",
       "      <th>246</th>\n",
       "      <td>246</td>\n",
       "      <td>247</td>\n",
       "      <td>Autant en emporte le vent</td>\n",
       "      <td>['Drama', ' History', ' Romance']</td>\n",
       "      <td>1939</td>\n",
       "      <td>238.0</td>\n",
       "      <td>8.1</td>\n",
       "      <td>['Victor Fleming', 'George Cukor', 'Sam Wood']</td>\n",
       "      <td>['Clark Gable', ' Vivien Leigh', ' Thomas Mitc...</td>\n",
       "      <td>293981.0</td>\n",
       "      <td>198676459.0</td>\n",
       "    </tr>\n",
       "    <tr>\n",
       "      <th>247</th>\n",
       "      <td>247</td>\n",
       "      <td>248</td>\n",
       "      <td>New York - Miami</td>\n",
       "      <td>['Comedy', ' Romance']</td>\n",
       "      <td>1934</td>\n",
       "      <td>105.0</td>\n",
       "      <td>8.1</td>\n",
       "      <td>['Frank Capra']</td>\n",
       "      <td>['Clark Gable', ' Claudette Colbert', ' Walter...</td>\n",
       "      <td>95754.0</td>\n",
       "      <td>4360000.0</td>\n",
       "    </tr>\n",
       "    <tr>\n",
       "      <th>248</th>\n",
       "      <td>248</td>\n",
       "      <td>249</td>\n",
       "      <td>La passion de Jeanne d'Arc</td>\n",
       "      <td>['Biography', ' Drama', ' History']</td>\n",
       "      <td>1928</td>\n",
       "      <td>110.0</td>\n",
       "      <td>8.1</td>\n",
       "      <td>['Carl Theodor Dreyer']</td>\n",
       "      <td>['Maria Falconetti', ' Eugene Silvain', ' Andr...</td>\n",
       "      <td>48981.0</td>\n",
       "      <td>21877.0</td>\n",
       "    </tr>\n",
       "    <tr>\n",
       "      <th>249</th>\n",
       "      <td>249</td>\n",
       "      <td>250</td>\n",
       "      <td>Le mécano de la Générale</td>\n",
       "      <td>['Action', ' Adventure', ' Comedy']</td>\n",
       "      <td>1926</td>\n",
       "      <td>67.0</td>\n",
       "      <td>8.1</td>\n",
       "      <td>['Clyde Bruckman', 'Buster Keaton']</td>\n",
       "      <td>['Buster Keaton', ' Marion Mack', ' Glen Caven...</td>\n",
       "      <td>82570.0</td>\n",
       "      <td>1033895.0</td>\n",
       "    </tr>\n",
       "  </tbody>\n",
       "</table>\n",
       "<p>250 rows × 11 columns</p>\n",
       "</div>"
      ],
      "text/plain": [
       "     Unnamed: 0  Ranking                                Title  \\\n",
       "0             0        1                           Les Évadés   \n",
       "1             1        2                           Le parrain   \n",
       "2             2        3  The Dark Knight : Le Chevalier noir   \n",
       "3             3        4              Le parrain, 2ème partie   \n",
       "4             4        5                  12 Hommes en colère   \n",
       "..          ...      ...                                  ...   \n",
       "245         245      246                   Mr. Smith au sénat   \n",
       "246         246      247            Autant en emporte le vent   \n",
       "247         247      248                     New York - Miami   \n",
       "248         248      249           La passion de Jeanne d'Arc   \n",
       "249         249      250             Le mécano de la Générale   \n",
       "\n",
       "                                   Genre  Year  Runtime_min  Rating  \\\n",
       "0                                  Drama  1994        142.0     9.3   \n",
       "1                    ['Crime', ' Drama']  1972        175.0     9.2   \n",
       "2         ['Action', ' Crime', ' Drama']  2008        152.0     9.0   \n",
       "3                    ['Crime', ' Drama']  1974        202.0     9.0   \n",
       "4                    ['Crime', ' Drama']  1957         96.0     9.0   \n",
       "..                                   ...   ...          ...     ...   \n",
       "245                 ['Comedy', ' Drama']  1939        129.0     8.1   \n",
       "246    ['Drama', ' History', ' Romance']  1939        238.0     8.1   \n",
       "247               ['Comedy', ' Romance']  1934        105.0     8.1   \n",
       "248  ['Biography', ' Drama', ' History']  1928        110.0     8.1   \n",
       "249  ['Action', ' Adventure', ' Comedy']  1926         67.0     8.1   \n",
       "\n",
       "                                          Directors  \\\n",
       "0                                    Frank Darabont   \n",
       "1                          ['Francis Ford Coppola']   \n",
       "2                             ['Christopher Nolan']   \n",
       "3                          ['Francis Ford Coppola']   \n",
       "4                                  ['Sidney Lumet']   \n",
       "..                                              ...   \n",
       "245                                 ['Frank Capra']   \n",
       "246  ['Victor Fleming', 'George Cukor', 'Sam Wood']   \n",
       "247                                 ['Frank Capra']   \n",
       "248                         ['Carl Theodor Dreyer']   \n",
       "249             ['Clyde Bruckman', 'Buster Keaton']   \n",
       "\n",
       "                                                 Stars      Votes        Gross  \n",
       "0    ['Tim Robbins', ' Morgan Freeman', ' Bob Gunto...  2384498.0   28341469.0  \n",
       "1    ['Marlon Brando', ' Al Pacino', ' James Caan',...  1652566.0  134966411.0  \n",
       "2    ['Christian Bale', ' Heath Ledger', ' Aaron Ec...  2347962.0  534858444.0  \n",
       "3    ['Al Pacino', ' Robert De Niro', ' Robert Duva...  1149888.0   57300000.0  \n",
       "4    ['Henry Fonda', ' Lee J. Cobb', ' Martin Balsa...   704057.0    4360000.0  \n",
       "..                                                 ...        ...          ...  \n",
       "245  ['James Stewart', ' Jean Arthur', ' Claude Rai...   108451.0    9600000.0  \n",
       "246  ['Clark Gable', ' Vivien Leigh', ' Thomas Mitc...   293981.0  198676459.0  \n",
       "247  ['Clark Gable', ' Claudette Colbert', ' Walter...    95754.0    4360000.0  \n",
       "248  ['Maria Falconetti', ' Eugene Silvain', ' Andr...    48981.0      21877.0  \n",
       "249  ['Buster Keaton', ' Marion Mack', ' Glen Caven...    82570.0    1033895.0  \n",
       "\n",
       "[250 rows x 11 columns]"
      ]
     },
     "execution_count": 5,
     "metadata": {},
     "output_type": "execute_result"
    }
   ],
   "source": [
    "df = pd.read_csv('BP2 - scrapping_imdb.csv')\n",
    "df"
   ]
  },
  {
   "cell_type": "code",
   "execution_count": 6,
   "metadata": {},
   "outputs": [
    {
     "data": {
      "text/html": [
       "<div>\n",
       "<style scoped>\n",
       "    .dataframe tbody tr th:only-of-type {\n",
       "        vertical-align: middle;\n",
       "    }\n",
       "\n",
       "    .dataframe tbody tr th {\n",
       "        vertical-align: top;\n",
       "    }\n",
       "\n",
       "    .dataframe thead th {\n",
       "        text-align: right;\n",
       "    }\n",
       "</style>\n",
       "<table border=\"1\" class=\"dataframe\">\n",
       "  <thead>\n",
       "    <tr style=\"text-align: right;\">\n",
       "      <th></th>\n",
       "      <th>Unnamed: 0</th>\n",
       "      <th>Ranking</th>\n",
       "      <th>Year</th>\n",
       "      <th>Runtime_min</th>\n",
       "      <th>Rating</th>\n",
       "      <th>Votes</th>\n",
       "      <th>Gross</th>\n",
       "    </tr>\n",
       "  </thead>\n",
       "  <tbody>\n",
       "    <tr>\n",
       "      <th>count</th>\n",
       "      <td>250.000000</td>\n",
       "      <td>250.000000</td>\n",
       "      <td>250.000000</td>\n",
       "      <td>250.000000</td>\n",
       "      <td>250.000000</td>\n",
       "      <td>2.500000e+02</td>\n",
       "      <td>2.450000e+02</td>\n",
       "    </tr>\n",
       "    <tr>\n",
       "      <th>mean</th>\n",
       "      <td>124.500000</td>\n",
       "      <td>125.500000</td>\n",
       "      <td>1987.292000</td>\n",
       "      <td>129.632000</td>\n",
       "      <td>8.301200</td>\n",
       "      <td>5.481919e+05</td>\n",
       "      <td>8.886691e+07</td>\n",
       "    </tr>\n",
       "    <tr>\n",
       "      <th>std</th>\n",
       "      <td>72.312977</td>\n",
       "      <td>72.312977</td>\n",
       "      <td>24.824499</td>\n",
       "      <td>32.476135</td>\n",
       "      <td>0.222343</td>\n",
       "      <td>4.750147e+05</td>\n",
       "      <td>1.324280e+08</td>\n",
       "    </tr>\n",
       "    <tr>\n",
       "      <th>min</th>\n",
       "      <td>0.000000</td>\n",
       "      <td>1.000000</td>\n",
       "      <td>1921.000000</td>\n",
       "      <td>45.000000</td>\n",
       "      <td>8.100000</td>\n",
       "      <td>2.803800e+04</td>\n",
       "      <td>1.017700e+04</td>\n",
       "    </tr>\n",
       "    <tr>\n",
       "      <th>25%</th>\n",
       "      <td>62.250000</td>\n",
       "      <td>63.250000</td>\n",
       "      <td>1968.750000</td>\n",
       "      <td>107.250000</td>\n",
       "      <td>8.100000</td>\n",
       "      <td>1.608608e+05</td>\n",
       "      <td>5.450000e+06</td>\n",
       "    </tr>\n",
       "    <tr>\n",
       "      <th>50%</th>\n",
       "      <td>124.500000</td>\n",
       "      <td>125.500000</td>\n",
       "      <td>1995.000000</td>\n",
       "      <td>126.000000</td>\n",
       "      <td>8.200000</td>\n",
       "      <td>3.984845e+05</td>\n",
       "      <td>3.322550e+07</td>\n",
       "    </tr>\n",
       "    <tr>\n",
       "      <th>75%</th>\n",
       "      <td>186.750000</td>\n",
       "      <td>187.750000</td>\n",
       "      <td>2007.000000</td>\n",
       "      <td>145.750000</td>\n",
       "      <td>8.400000</td>\n",
       "      <td>8.464938e+05</td>\n",
       "      <td>1.307429e+08</td>\n",
       "    </tr>\n",
       "    <tr>\n",
       "      <th>max</th>\n",
       "      <td>249.000000</td>\n",
       "      <td>250.000000</td>\n",
       "      <td>2020.000000</td>\n",
       "      <td>321.000000</td>\n",
       "      <td>9.300000</td>\n",
       "      <td>2.384498e+06</td>\n",
       "      <td>8.583730e+08</td>\n",
       "    </tr>\n",
       "  </tbody>\n",
       "</table>\n",
       "</div>"
      ],
      "text/plain": [
       "       Unnamed: 0     Ranking         Year  Runtime_min      Rating  \\\n",
       "count  250.000000  250.000000   250.000000   250.000000  250.000000   \n",
       "mean   124.500000  125.500000  1987.292000   129.632000    8.301200   \n",
       "std     72.312977   72.312977    24.824499    32.476135    0.222343   \n",
       "min      0.000000    1.000000  1921.000000    45.000000    8.100000   \n",
       "25%     62.250000   63.250000  1968.750000   107.250000    8.100000   \n",
       "50%    124.500000  125.500000  1995.000000   126.000000    8.200000   \n",
       "75%    186.750000  187.750000  2007.000000   145.750000    8.400000   \n",
       "max    249.000000  250.000000  2020.000000   321.000000    9.300000   \n",
       "\n",
       "              Votes         Gross  \n",
       "count  2.500000e+02  2.450000e+02  \n",
       "mean   5.481919e+05  8.886691e+07  \n",
       "std    4.750147e+05  1.324280e+08  \n",
       "min    2.803800e+04  1.017700e+04  \n",
       "25%    1.608608e+05  5.450000e+06  \n",
       "50%    3.984845e+05  3.322550e+07  \n",
       "75%    8.464938e+05  1.307429e+08  \n",
       "max    2.384498e+06  8.583730e+08  "
      ]
     },
     "execution_count": 6,
     "metadata": {},
     "output_type": "execute_result"
    }
   ],
   "source": [
    "df.describe()"
   ]
  },
  {
   "cell_type": "code",
   "execution_count": 7,
   "metadata": {
    "scrolled": true
   },
   "outputs": [
    {
     "name": "stdout",
     "output_type": "stream",
     "text": [
      "<class 'pandas.core.frame.DataFrame'>\n",
      "RangeIndex: 250 entries, 0 to 249\n",
      "Data columns (total 11 columns):\n",
      " #   Column       Non-Null Count  Dtype  \n",
      "---  ------       --------------  -----  \n",
      " 0   Unnamed: 0   250 non-null    int64  \n",
      " 1   Ranking      250 non-null    int64  \n",
      " 2   Title        250 non-null    object \n",
      " 3   Genre        250 non-null    object \n",
      " 4   Year         250 non-null    int64  \n",
      " 5   Runtime_min  250 non-null    float64\n",
      " 6   Rating       250 non-null    float64\n",
      " 7   Directors    250 non-null    object \n",
      " 8   Stars        250 non-null    object \n",
      " 9   Votes        250 non-null    float64\n",
      " 10  Gross        245 non-null    float64\n",
      "dtypes: float64(4), int64(3), object(4)\n",
      "memory usage: 21.6+ KB\n"
     ]
    }
   ],
   "source": [
    "df.info()"
   ]
  },
  {
   "cell_type": "markdown",
   "metadata": {},
   "source": [
    "## Vizualisation"
   ]
  },
  {
   "cell_type": "code",
   "execution_count": 10,
   "metadata": {},
   "outputs": [
    {
     "data": {
      "image/png": "[encoded data removed]",
      "text/plain": [
       "<Figure size 720x576 with 1 Axes>"
      ]
     },
     "metadata": {
      "needs_background": "light"
     },
     "output_type": "display_data"
    }
   ],
   "source": [
    "plt.figure(figsize=(10,8));\n",
    "graph = sns.barplot(data=df , x='Rating', y='Gross');\n",
    "graph.set_title('MOYENNE DE LA RECETTE PAR RAPPORT AUX RATINGS', size='30',color=\"#B6A8EB\")\n",
    "\n",
    "plt.ylabel('Moyenne de la recette', size=20, color=\"#EA96A3\");\n",
    "plt.xlabel('Rating', size=20, color=\"#4BABA4\");\n",
    "graph;"
   ]
  },
  {
   "cell_type": "code",
   "execution_count": 18,
   "metadata": {},
   "outputs": [
    {
     "data": {
      "image/png": "[encoded data removed]",
      "text/plain": [
       "<Figure size 1440x576 with 1 Axes>"
      ]
     },
     "metadata": {
      "needs_background": "light"
     },
     "output_type": "display_data"
    }
   ],
   "source": [
    "plt.figure(figsize=(20,8));\n",
    "graph_par_annee = sns.lineplot(y='Gross', x='Rating',data=df);\n",
    "graph_par_annee.set_title(\"MOYENNE DE LA RECETTE PAR RAPPORT AUX RATINGS\",size=30);\n",
    "plt.ylabel('Recette', size=20, color=\"orange\");\n",
    "plt.xlabel('Rating', size=20, color=\"blue\");\n",
    "graph_par_annee;"
   ]
  },
  {
   "cell_type": "code",
   "execution_count": 32,
   "metadata": {},
   "outputs": [
    {
     "data": {
      "text/html": [
       "<div>\n",
       "<style scoped>\n",
       "    .dataframe tbody tr th:only-of-type {\n",
       "        vertical-align: middle;\n",
       "    }\n",
       "\n",
       "    .dataframe tbody tr th {\n",
       "        vertical-align: top;\n",
       "    }\n",
       "\n",
       "    .dataframe thead th {\n",
       "        text-align: right;\n",
       "    }\n",
       "</style>\n",
       "<table border=\"1\" class=\"dataframe\">\n",
       "  <thead>\n",
       "    <tr style=\"text-align: right;\">\n",
       "      <th></th>\n",
       "      <th>Title</th>\n",
       "      <th>Votes</th>\n",
       "      <th>Rating</th>\n",
       "    </tr>\n",
       "    <tr>\n",
       "      <th>Year</th>\n",
       "      <th></th>\n",
       "      <th></th>\n",
       "      <th></th>\n",
       "    </tr>\n",
       "  </thead>\n",
       "  <tbody>\n",
       "    <tr>\n",
       "      <th>1921</th>\n",
       "      <td>1</td>\n",
       "      <td>115930.0</td>\n",
       "      <td>8.3000</td>\n",
       "    </tr>\n",
       "    <tr>\n",
       "      <th>1924</th>\n",
       "      <td>1</td>\n",
       "      <td>43434.0</td>\n",
       "      <td>8.2000</td>\n",
       "    </tr>\n",
       "    <tr>\n",
       "      <th>1925</th>\n",
       "      <td>1</td>\n",
       "      <td>102987.0</td>\n",
       "      <td>8.2000</td>\n",
       "    </tr>\n",
       "    <tr>\n",
       "      <th>1926</th>\n",
       "      <td>1</td>\n",
       "      <td>82570.0</td>\n",
       "      <td>8.1000</td>\n",
       "    </tr>\n",
       "    <tr>\n",
       "      <th>1927</th>\n",
       "      <td>1</td>\n",
       "      <td>162459.0</td>\n",
       "      <td>8.3000</td>\n",
       "    </tr>\n",
       "    <tr>\n",
       "      <th>...</th>\n",
       "      <td>...</td>\n",
       "      <td>...</td>\n",
       "      <td>...</td>\n",
       "    </tr>\n",
       "    <tr>\n",
       "      <th>2016</th>\n",
       "      <td>5</td>\n",
       "      <td>989088.0</td>\n",
       "      <td>8.2200</td>\n",
       "    </tr>\n",
       "    <tr>\n",
       "      <th>2017</th>\n",
       "      <td>3</td>\n",
       "      <td>1512417.0</td>\n",
       "      <td>8.2000</td>\n",
       "    </tr>\n",
       "    <tr>\n",
       "      <th>2018</th>\n",
       "      <td>5</td>\n",
       "      <td>1811503.0</td>\n",
       "      <td>8.3200</td>\n",
       "    </tr>\n",
       "    <tr>\n",
       "      <th>2019</th>\n",
       "      <td>8</td>\n",
       "      <td>3440363.0</td>\n",
       "      <td>8.2875</td>\n",
       "    </tr>\n",
       "    <tr>\n",
       "      <th>2020</th>\n",
       "      <td>3</td>\n",
       "      <td>345256.0</td>\n",
       "      <td>8.3000</td>\n",
       "    </tr>\n",
       "  </tbody>\n",
       "</table>\n",
       "<p>84 rows × 3 columns</p>\n",
       "</div>"
      ],
      "text/plain": [
       "      Title      Votes  Rating\n",
       "Year                          \n",
       "1921      1   115930.0  8.3000\n",
       "1924      1    43434.0  8.2000\n",
       "1925      1   102987.0  8.2000\n",
       "1926      1    82570.0  8.1000\n",
       "1927      1   162459.0  8.3000\n",
       "...     ...        ...     ...\n",
       "2016      5   989088.0  8.2200\n",
       "2017      3  1512417.0  8.2000\n",
       "2018      5  1811503.0  8.3200\n",
       "2019      8  3440363.0  8.2875\n",
       "2020      3   345256.0  8.3000\n",
       "\n",
       "[84 rows x 3 columns]"
      ]
     },
     "execution_count": 32,
     "metadata": {},
     "output_type": "execute_result"
    }
   ],
   "source": [
    "total_par_an1 = df.groupby(by=['Year']).sum()\n",
    "total_par_an"
   ]
  },
  {
   "cell_type": "code",
   "execution_count": 22,
   "metadata": {},
   "outputs": [
    {
     "data": {
      "text/html": [
       "<div>\n",
       "<style scoped>\n",
       "    .dataframe tbody tr th:only-of-type {\n",
       "        vertical-align: middle;\n",
       "    }\n",
       "\n",
       "    .dataframe tbody tr th {\n",
       "        vertical-align: top;\n",
       "    }\n",
       "\n",
       "    .dataframe thead th {\n",
       "        text-align: right;\n",
       "    }\n",
       "</style>\n",
       "<table border=\"1\" class=\"dataframe\">\n",
       "  <thead>\n",
       "    <tr style=\"text-align: right;\">\n",
       "      <th></th>\n",
       "      <th>Title</th>\n",
       "      <th>Votes</th>\n",
       "      <th>Rating</th>\n",
       "    </tr>\n",
       "    <tr>\n",
       "      <th>Year</th>\n",
       "      <th></th>\n",
       "      <th></th>\n",
       "      <th></th>\n",
       "    </tr>\n",
       "  </thead>\n",
       "  <tbody>\n",
       "    <tr>\n",
       "      <th>1921</th>\n",
       "      <td>1</td>\n",
       "      <td>115930.0</td>\n",
       "      <td>8.3000</td>\n",
       "    </tr>\n",
       "    <tr>\n",
       "      <th>1924</th>\n",
       "      <td>1</td>\n",
       "      <td>43434.0</td>\n",
       "      <td>8.2000</td>\n",
       "    </tr>\n",
       "    <tr>\n",
       "      <th>1925</th>\n",
       "      <td>1</td>\n",
       "      <td>102987.0</td>\n",
       "      <td>8.2000</td>\n",
       "    </tr>\n",
       "    <tr>\n",
       "      <th>1926</th>\n",
       "      <td>1</td>\n",
       "      <td>82570.0</td>\n",
       "      <td>8.1000</td>\n",
       "    </tr>\n",
       "    <tr>\n",
       "      <th>1927</th>\n",
       "      <td>1</td>\n",
       "      <td>162459.0</td>\n",
       "      <td>8.3000</td>\n",
       "    </tr>\n",
       "    <tr>\n",
       "      <th>...</th>\n",
       "      <td>...</td>\n",
       "      <td>...</td>\n",
       "      <td>...</td>\n",
       "    </tr>\n",
       "    <tr>\n",
       "      <th>2016</th>\n",
       "      <td>5</td>\n",
       "      <td>989088.0</td>\n",
       "      <td>8.2200</td>\n",
       "    </tr>\n",
       "    <tr>\n",
       "      <th>2017</th>\n",
       "      <td>3</td>\n",
       "      <td>1512417.0</td>\n",
       "      <td>8.2000</td>\n",
       "    </tr>\n",
       "    <tr>\n",
       "      <th>2018</th>\n",
       "      <td>5</td>\n",
       "      <td>1811503.0</td>\n",
       "      <td>8.3200</td>\n",
       "    </tr>\n",
       "    <tr>\n",
       "      <th>2019</th>\n",
       "      <td>8</td>\n",
       "      <td>3440363.0</td>\n",
       "      <td>8.2875</td>\n",
       "    </tr>\n",
       "    <tr>\n",
       "      <th>2020</th>\n",
       "      <td>3</td>\n",
       "      <td>345256.0</td>\n",
       "      <td>8.3000</td>\n",
       "    </tr>\n",
       "  </tbody>\n",
       "</table>\n",
       "<p>84 rows × 3 columns</p>\n",
       "</div>"
      ],
      "text/plain": [
       "      Title      Votes  Rating\n",
       "Year                          \n",
       "1921      1   115930.0  8.3000\n",
       "1924      1    43434.0  8.2000\n",
       "1925      1   102987.0  8.2000\n",
       "1926      1    82570.0  8.1000\n",
       "1927      1   162459.0  8.3000\n",
       "...     ...        ...     ...\n",
       "2016      5   989088.0  8.2200\n",
       "2017      3  1512417.0  8.2000\n",
       "2018      5  1811503.0  8.3200\n",
       "2019      8  3440363.0  8.2875\n",
       "2020      3   345256.0  8.3000\n",
       "\n",
       "[84 rows x 3 columns]"
      ]
     },
     "execution_count": 22,
     "metadata": {},
     "output_type": "execute_result"
    }
   ],
   "source": [
    "total_par_an = df.groupby(by=['Year']).agg({'Title':'count',\n",
    "'Votes':'sum',\n",
    "'Rating':'mean'})\n",
    "total_par_an"
   ]
  },
  {
   "cell_type": "code",
   "execution_count": 40,
   "metadata": {},
   "outputs": [
    {
     "data": {
      "image/png": "[encoded data removed]",
      "text/plain": [
       "<Figure size 1440x576 with 1 Axes>"
      ]
     },
     "metadata": {
      "needs_background": "light"
     },
     "output_type": "display_data"
    }
   ],
   "source": [
    "plt.figure(figsize=(20,8));\n",
    "graph_par_annee = sns.lineplot(y='Year', x='Title',data=total_par_an);\n",
    "graph_par_annee.set_title(\"NB DE FILMS PAR ANNEE\",size=30);\n",
    "plt.ylabel('Année', size=20, color=\"orange\");\n",
    "plt.xlabel('Titre', size=20, color=\"blue\");\n",
    "graph_par_annee;"
   ]
  },
  {
   "cell_type": "code",
   "execution_count": null,
   "metadata": {},
   "outputs": [],
   "source": []
  }
 ],
 "metadata": {
  "kernelspec": {
   "display_name": "Python 3",
   "language": "python",
   "name": "python3"
  },
  "language_info": {
   "codemirror_mode": {
    "name": "ipython",
    "version": 3
   },
   "file_extension": ".py",
   "mimetype": "text/x-python",
   "name": "python",
   "nbconvert_exporter": "python",
   "pygments_lexer": "ipython3",
   "version": "3.8.5"
  },
  "nbTranslate": {
   "displayLangs": [
    "*"
   ],
   "hotkey": "alt-t",
   "langInMainMenu": true,
   "sourceLang": "en",
   "targetLang": "fr",
   "useGoogleTranslate": true
  },
  "toc": {
   "base_numbering": 1,
   "nav_menu": {},
   "number_sections": true,
   "sideBar": true,
   "skip_h1_title": false,
   "title_cell": "Table of Contents",
   "title_sidebar": "Contents",
   "toc_cell": false,
   "toc_position": {
    "height": "426.667px",
    "left": "54px",
    "top": "109.567px",
    "width": "256px"
   },
   "toc_section_display": true,
   "toc_window_display": true
  }
 },
 "nbformat": 4,
 "nbformat_minor": 4
}
